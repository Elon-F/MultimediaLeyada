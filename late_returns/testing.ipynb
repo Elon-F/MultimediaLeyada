{
 "cells": [
  {
   "cell_type": "code",
   "execution_count": 2,
   "outputs": [],
   "source": [
    "import pandas as pd"
   ],
   "metadata": {
    "collapsed": false,
    "pycharm": {
     "name": "#%%\n"
    }
   }
  },
  {
   "cell_type": "code",
   "execution_count": 29,
   "outputs": [],
   "source": [
    "df = pd.read_csv(\"CurrentUserState.csv\")\n",
    "current_lesson = 0"
   ],
   "metadata": {
    "collapsed": false,
    "pycharm": {
     "name": "#%%\n"
    }
   }
  },
  {
   "cell_type": "code",
   "execution_count": 30,
   "outputs": [],
   "source": [
    "def lesson_parser(data: str):\n",
    "    data = data.lower()\n",
    "    if 'x' in data:\n",
    "        return False\n",
    "    split = data.split('-')\n",
    "    if len(split) == 2:\n",
    "        split = [num for num in map(int, split)]\n",
    "        return split[1] > current_lesson\n",
    "    return False\n"
   ],
   "metadata": {
    "collapsed": false,
    "pycharm": {
     "name": "#%%\n"
    }
   }
  },
  {
   "cell_type": "code",
   "execution_count": 31,
   "outputs": [
    {
     "data": {
      "text/plain": "   TelNumber          NameSurn   Status  Teach/Lesson Lessons  Room  KB  \\\n0  526377697  אלישבע ורנר-רייז  Teacher           NaN    9-10  אופק NaN   \n\n  LTZoom  LTEclipse  LPITest  Power  HeadSET  USB  HDMI  Projector OTHER  \\\n0    NaN        NaN      NaN    NaN      NaN  NaN   1.0        NaN   NaN   \n\n   TimeB  TimeR      DataB 8:46  \n0  13:35    NaN  19/1/2022  NaN  ",
      "text/html": "<div>\n<style scoped>\n    .dataframe tbody tr th:only-of-type {\n        vertical-align: middle;\n    }\n\n    .dataframe tbody tr th {\n        vertical-align: top;\n    }\n\n    .dataframe thead th {\n        text-align: right;\n    }\n</style>\n<table border=\"1\" class=\"dataframe\">\n  <thead>\n    <tr style=\"text-align: right;\">\n      <th></th>\n      <th>TelNumber</th>\n      <th>NameSurn</th>\n      <th>Status</th>\n      <th>Teach/Lesson</th>\n      <th>Lessons</th>\n      <th>Room</th>\n      <th>KB</th>\n      <th>LTZoom</th>\n      <th>LTEclipse</th>\n      <th>LPITest</th>\n      <th>Power</th>\n      <th>HeadSET</th>\n      <th>USB</th>\n      <th>HDMI</th>\n      <th>Projector</th>\n      <th>OTHER</th>\n      <th>TimeB</th>\n      <th>TimeR</th>\n      <th>DataB</th>\n      <th>8:46</th>\n    </tr>\n  </thead>\n  <tbody>\n    <tr>\n      <th>0</th>\n      <td>526377697</td>\n      <td>אלישבע ורנר-רייז</td>\n      <td>Teacher</td>\n      <td>NaN</td>\n      <td>9-10</td>\n      <td>אופק</td>\n      <td>NaN</td>\n      <td>NaN</td>\n      <td>NaN</td>\n      <td>NaN</td>\n      <td>NaN</td>\n      <td>NaN</td>\n      <td>NaN</td>\n      <td>1.0</td>\n      <td>NaN</td>\n      <td>NaN</td>\n      <td>13:35</td>\n      <td>NaN</td>\n      <td>19/1/2022</td>\n      <td>NaN</td>\n    </tr>\n  </tbody>\n</table>\n</div>"
     },
     "execution_count": 31,
     "metadata": {},
     "output_type": "execute_result"
    }
   ],
   "source": [
    "late = df[df[\"Lessons\"].apply(lesson_parser)].reset_index(drop=True)\n",
    "late"
   ],
   "metadata": {
    "collapsed": false,
    "pycharm": {
     "name": "#%%\n"
    }
   }
  },
  {
   "cell_type": "code",
   "execution_count": 49,
   "outputs": [
    {
     "name": "stdout",
     "output_type": "stream",
     "text": [
      "nan\n",
      "not nan!\n"
     ]
    }
   ],
   "source": [
    "import numpy as np\n",
    "\n",
    "for row in late.itertuples():\n",
    "    print(row.KB)\n",
    "    if pd.notna(row.Lessons):\n",
    "        print(\"not nan!\")"
   ],
   "metadata": {
    "collapsed": false,
    "pycharm": {
     "name": "#%%\n"
    }
   }
  },
  {
   "cell_type": "code",
   "execution_count": null,
   "outputs": [],
   "source": [],
   "metadata": {
    "collapsed": false,
    "pycharm": {
     "name": "#%%\n"
    }
   }
  }
 ],
 "metadata": {
  "kernelspec": {
   "display_name": "Python 3",
   "language": "python",
   "name": "python3"
  },
  "language_info": {
   "codemirror_mode": {
    "name": "ipython",
    "version": 2
   },
   "file_extension": ".py",
   "mimetype": "text/x-python",
   "name": "python",
   "nbconvert_exporter": "python",
   "pygments_lexer": "ipython2",
   "version": "2.7.6"
  }
 },
 "nbformat": 4,
 "nbformat_minor": 0
}